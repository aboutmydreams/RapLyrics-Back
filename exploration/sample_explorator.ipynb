{
 "cells": [
  {
   "cell_type": "heading",
   "metadata": {
    "collapsed": true
   },
   "level": 1,
   "source": [
    "Sample : quality of outputs analysis"
   ]
  },
  {
   "cell_type": "markdown",
   "metadata": {},
   "source": [
    "The goal of this doc is to get the best generation function and to play with it."
   ]
  },
  {
   "cell_type": "code",
   "execution_count": 1,
   "metadata": {},
   "outputs": [
    {
     "name": "stderr",
     "output_type": "stream",
     "text": [
      "Using TensorFlow backend.\n"
     ]
    }
   ],
   "source": [
    "from textgenrnn import textgenrnn"
   ]
  },
  {
   "cell_type": "code",
   "execution_count": 2,
   "metadata": {},
   "outputs": [],
   "source": [
    "textgen = textgenrnn(config_path='weights/RapLyrics_word2_01_config.json',\n",
    "                     vocab_path='weights/RapLyrics_word2_01_vocab.json',\n",
    "                     weights_path='weights/RapLyrics_word2_01_weights.hdf5')\n"
   ]
  },
  {
   "cell_type": "code",
   "execution_count": 3,
   "metadata": {},
   "outputs": [],
   "source": [
    "import sampler"
   ]
  },
  {
   "cell_type": "code",
   "execution_count": 10,
   "metadata": {},
   "outputs": [
    {
     "name": "stdout",
     "output_type": "stream",
     "text": [
      "low life down the whip\ni don't know i don't know\nand you know how the fuck did you learn to get some lane nigga\nwhite people get money that's the white bitch\ni just want to flip on the riches\n\n"
     ]
    },
    {
     "name": "stdout",
     "output_type": "stream",
     "text": [
      "low life and death like it's a shame\ni told bro don't trip never let me get back\ni don't believe that i can\ni just wanna see a dead in my life\nand a money that's my motherfuckin life\nand i hope he never get to see me as sick as the davey tryna hold that tryna hold mics\ni gave my momma to the back of the boat\ni call me wanna go to church on sunday\nand i don't know what you got to say and you know\nused to have a city til november pains\n"
     ]
    },
    {
     "name": "stdout",
     "output_type": "stream",
     "text": [
      "low life and whip like a hockey test trick\nthe way i spit is a pennies well heaven so well can knock a floor inside\nit's a problem before i reach one which one to christ\nguess what you really is to hide those who hide behind\nand the money ain't safe yet i wear the bag\nshe rollin' it she know that i'm not a favorite\n'cause you're not a ayo i know that you don't know me\nin a whole world gettin' stopped fire a$ap\nand a shit inside a run away from a land though\n"
     ]
    },
    {
     "name": "stdout",
     "output_type": "stream",
     "text": [
      "low life on death\nlike when he got a brother\nwe all go and visit the father got his pops up\ni be on my own shit\nmy shoes off i'm not jewels i'm just like i'm\nthese hoes they want me to make lean back wit their hands\nand i'm looking for a fucking animal\n\n"
     ]
    }
   ],
   "source": [
    "prefix = \"low life\"\n",
    "for i in range(4):\n",
    "    output = sampler.lyrics_generator(textgen, prefix, prefix_mode=2, temperatures=[0.7])\n",
    "    print(output)"
   ]
  },
  {
   "cell_type": "code",
   "execution_count": 13,
   "metadata": {},
   "outputs": [
    {
     "name": "stdout",
     "output_type": "stream",
     "text": [
      "lowdsfxc acting fool selling drugs peace to yo ass thugs\ni don't even know what you call me just let me\ni'm not a rapper to ever songs\nand i ain't really got shit to say\n"
     ]
    },
    {
     "name": "stdout",
     "output_type": "stream",
     "text": [
      "lowdsfxc ran into tryin' made running soft\nand i don't know why i'm so don't call pot\ni got a friend for twenty thousand bitches\ni don't give a fuck i don't give a fuck about y'all\ni don't need a little more than just one strike a fuckin' corpse\nand that's what they want they man see me\ni don't wanna be alone\ni know the street life after me i done already heavy\ni be in the trap house again\n"
     ]
    },
    {
     "name": "stdout",
     "output_type": "stream",
     "text": [
      "lowdsfxc walking double up slow cats with no dough\ni don't know why i'm here\ni know you got me sick of this bitch\ni could be poppin' off in them rap shit\nmy voice is fake and left the very best thing\n\n"
     ]
    },
    {
     "name": "stdout",
     "output_type": "stream",
     "text": [
      "lowdsfxc ran into somethin' tryin' too high to come through\ni get the message\nmy momma told me i was a love there i don't need no nobody\ni don't know who got the crown\nor two feet makes a riesling make a\nor two feet makes a riesling make a bitch slow\n"
     ]
    }
   ],
   "source": [
    "prefix = \"lowdsfxc\"\n",
    "for i in range(4):\n",
    "    output = sampler.lyrics_generator(textgen, prefix, prefix_mode=2)\n",
    "    print(output)"
   ]
  },
  {
   "cell_type": "code",
   "execution_count": 12,
   "metadata": {},
   "outputs": [
    {
     "name": "stdout",
     "output_type": "stream",
     "text": [
      "bitch i'm a boss better\nwith the same chain that came back to my money\ni got a little bit of money and\na swisher\na swisher sweet man i am trouble\nand i ain't even got no better shit\n"
     ]
    },
    {
     "name": "stdout",
     "output_type": "stream",
     "text": [
      "bitch i'm the one\nthe game ain't that much head\nthat girl ain't worth\nthat girl ain't worth it\nand then i hit the road to the riches you'll listen of more\ni got a bitch for a nigga like me\n\n"
     ]
    },
    {
     "name": "stdout",
     "output_type": "stream",
     "text": [
      "bitch i work my cream bow and bow our heads\nbut i still love her like my life is very hard\nso i put that shit in second guess i guess i'm back to the block\ni guess i got a letter to some other people\n\n"
     ]
    },
    {
     "name": "stdout",
     "output_type": "stream",
     "text": [
      "bitch you better get rid of your main attraction\nand i know it's at the bottom and i ain't no problem\ni know you got a lot but your fuckin' parents are paid\ni keep it gangsta say that i beat to you\nyeah\nyeah i got this shit right on the move\n\n"
     ]
    }
   ],
   "source": [
    "prefix = \"bitch\"\n",
    "for i in range(4):\n",
    "    output = sampler.lyrics_generator(textgen, prefix, prefix_mode=2)\n",
    "    print(output)"
   ]
  },
  {
   "cell_type": "code",
   "execution_count": null,
   "metadata": {},
   "outputs": [],
   "source": []
  }
 ],
 "metadata": {
  "kernelspec": {
   "display_name": "Python 2",
   "language": "python",
   "name": "python2"
  },
  "language_info": {
   "codemirror_mode": {
    "name": "ipython",
    "version": 2
   },
   "file_extension": ".py",
   "mimetype": "text/x-python",
   "name": "python",
   "nbconvert_exporter": "python",
   "pygments_lexer": "ipython2",
   "version": "2.7.6"
  }
 },
 "nbformat": 4,
 "nbformat_minor": 0
}
